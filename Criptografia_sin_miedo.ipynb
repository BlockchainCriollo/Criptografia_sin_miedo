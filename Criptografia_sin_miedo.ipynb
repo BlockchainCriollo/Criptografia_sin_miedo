{
 "cells": [
  {
   "cell_type": "markdown",
   "metadata": {},
   "source": [
    "# Criptografía sin miedo 🔐\n",
    "\n",
    "Este notebook acompaña al video y artículo educativo sobre los fundamentos criptográficos de la blockchain.\n",
    "\n",
    "## Contenidos:\n",
    "- Hashing con SHA-256\n",
    "- Firma digital con criptografía asimétrica\n",
    "- Árbol de Merkle (concepto base)\n"
   ]
  },
  {
   "cell_type": "markdown",
   "metadata": {},
   "source": [
    "## 1. Hash con SHA-256"
   ]
  },
  {
   "cell_type": "code",
   "execution_count": 1,
   "metadata": {},
   "outputs": [
    {
     "name": "stdout",
     "output_type": "stream",
     "text": [
      "Mensaje: Hola blockchain\n",
      "Hash SHA-256: 2b9b5e8eea748971d74144b3562c5224a44b0b596694b526250864516012b232\n"
     ]
    }
   ],
   "source": [
    "import hashlib\n",
    "\n",
    "def hash_sha256(text):\n",
    "    return hashlib.sha256(text.encode()).hexdigest()\n",
    "\n",
    "mensaje = \"Hola blockchain\"\n",
    "hash_resultado = hash_sha256(mensaje)\n",
    "print(\"Mensaje:\", mensaje)\n",
    "print(\"Hash SHA-256:\", hash_resultado)"
   ]
  },
  {
   "cell_type": "markdown",
   "metadata": {},
   "source": [
    "## 2. Firma digital con ECDSA (usando curva SECP256k1)"
   ]
  },
  {
   "cell_type": "code",
   "execution_count": 11,
   "metadata": {},
   "outputs": [
    {
     "name": "stdout",
     "output_type": "stream",
     "text": [
      "Clave privada: cc1cbe9bd838b6dc24652fa91a80cbbb37abf9eeb0694901328c83d35409d852\n",
      "Clave pública: 964ed450cd0391856913a66daab06f6a6180505521f4e2981e8b83694ac481350184089d4d7e9fa711d78a0b7fc85dd418a3f48e5588319996572f9b840843d3\n",
      "Mensaje: Transferencia de 1 BTC a María\n",
      "Firma válida: True\n"
     ]
    }
   ],
   "source": [
    "from ecdsa import SigningKey, SECP256k1\n",
    "\n",
    "# Crear clave privada y pública\n",
    "clave_privada = SigningKey.generate(curve=SECP256k1)\n",
    "clave_publica = clave_privada.verifying_key\n",
    "\n",
    "# Mostrar la clave privada y pública\n",
    "print(\"Clave privada:\", clave_privada.to_string().hex())\n",
    "print(\"Clave pública:\", clave_publica.to_string().hex())\n",
    "\n",
    "# Firmar un mensaje (codificado a bytes)\n",
    "mensaje = \"Transferencia de 1 BTC a María\"\n",
    "mensaje_bytes = mensaje.encode('utf-8')  # Codifica el string a bytes\n",
    "\n",
    "firma = clave_privada.sign(mensaje_bytes)\n",
    "\n",
    "# Verificar firma\n",
    "es_valida = clave_publica.verify(firma, mensaje_bytes)\n",
    "\n",
    "print(\"Mensaje:\", mensaje)\n",
    "print(\"Firma válida:\", es_valida)\n"
   ]
  },
  {
   "cell_type": "markdown",
   "metadata": {},
   "source": [
    "## 3. Árbol de Merkle básico (2 niveles)\n",
    "\n",
    "#### Es una estructura que permite verificar que una transacción está incluida en un bloque… ¡sin necesidad de leer todo el bloque!\n",
    "\n",
    "#### Es ideal para mantener seguridad, pero con eficiencia."
   ]
  },
  {
   "cell_type": "markdown",
   "metadata": {},
   "source": [
    "            raiz_merkle\n",
    "           /           \\\n",
    "         h12           h34\n",
    "        /   \\         /   \\\n",
    "      tx1  tx2     tx3   tx4\n"
   ]
  },
  {
   "cell_type": "code",
   "execution_count": 14,
   "metadata": {},
   "outputs": [
    {
     "name": "stdout",
     "output_type": "stream",
     "text": [
      "Raíz de Merkle: 50a504831bd50fee3581d287168a85a8dcdd6aa777ffd0fe35e37290268a0153\n",
      "¿tx1 está en el árbol?: True\n"
     ]
    }
   ],
   "source": [
    "import hashlib\n",
    "\n",
    "def hash_sha256(data):\n",
    "    return hashlib.sha256(data.encode()).hexdigest()\n",
    "\n",
    "def hash_doble(a, b):\n",
    "    return hashlib.sha256((a + b).encode()).hexdigest()\n",
    "\n",
    "# Transacciones base\n",
    "tx1 = hash_sha256(\"A\")\n",
    "tx2 = hash_sha256(\"B\")\n",
    "tx3 = hash_sha256(\"C\")\n",
    "tx4 = hash_sha256(\"D\")\n",
    "\n",
    "# Hash de pares\n",
    "h12 = hash_doble(tx1, tx2)\n",
    "h34 = hash_doble(tx3, tx4)\n",
    "\n",
    "# Raíz de Merkle\n",
    "raiz_merkle = hash_doble(h12, h34)\n",
    "print(\"Raíz de Merkle:\", raiz_merkle)\n",
    "\n",
    "# --- Verificación de inclusión de tx1 ---\n",
    "# Merkle proof: [tx2, h34]  => orden importa: izquierda/derecha\n",
    "\n",
    "def verificar_merkle(tx_hash, proof, raiz, posiciones):\n",
    "    actual = tx_hash\n",
    "    for i in range(len(proof)):\n",
    "        if posiciones[i] == 'derecha':\n",
    "            actual = hash_doble(actual, proof[i])\n",
    "        else:\n",
    "            actual = hash_doble(proof[i], actual)\n",
    "    return actual == raiz\n",
    "\n",
    "# Construimos la prueba para tx1\n",
    "proof_tx1 = [tx2, h34]\n",
    "posiciones_tx1 = ['derecha', 'derecha']  # tx1 izquierda de tx2, luego h12 izquierda de h34\n",
    "\n",
    "# Verificamos\n",
    "es_valido = verificar_merkle(tx1, proof_tx1, raiz_merkle, posiciones_tx1)\n",
    "print(\"¿tx1 está en el árbol?:\", es_valido)\n"
   ]
  }
 ],
 "metadata": {
  "kernelspec": {
   "display_name": "Python 3",
   "language": "python",
   "name": "python3"
  },
  "language_info": {
   "codemirror_mode": {
    "name": "ipython",
    "version": 3
   },
   "file_extension": ".py",
   "mimetype": "text/x-python",
   "name": "python",
   "nbconvert_exporter": "python",
   "pygments_lexer": "ipython3",
   "version": "3.12.1"
  }
 },
 "nbformat": 4,
 "nbformat_minor": 2
}
